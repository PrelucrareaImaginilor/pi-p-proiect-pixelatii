{
 "cells": [
  {
   "cell_type": "code",
   "execution_count": 59,
   "id": "79d942de-bc90-4b0c-b45e-57e92811f2d7",
   "metadata": {},
   "outputs": [
    {
     "name": "stdout",
     "output_type": "stream",
     "text": [
      "LogHandlers setup!\n",
      "24-11-14 22:47:53.293 : secret dataset: visual_examples\n",
      "24-11-14 22:47:53.293 : cover dataset: visual_examples\n",
      "24-11-14 22:47:53.293 : beta: 0.50\n",
      "24-11-14 22:47:53.293 : learning rate: 0.056\n",
      "24-11-14 22:47:53.293 : epsilon: 0.20\n",
      "24-11-14 22:47:53.293 : number of iterations: 1500\n",
      "24-11-14 22:47:53.293 : the size of secret image: 256\n",
      "24-11-14 22:47:53.293 : the size of cover image: 512\n",
      "24-11-14 22:47:56.234 : ************************************************************\n",
      "24-11-14 22:47:56.234 : hiding 0-th image\n",
      "24-11-14 22:47:56.319 : random_seed_for_decodor(receiver): 1234\n",
      "24-11-14 22:48:13.644 : ------------------------------------------------------------\n",
      "24-11-14 22:48:14.101 : stego_psnr: 42.54, secret_rev_psnr: 27.62\n",
      "24-11-14 22:48:14.101 : stego_ssim: 0.9884, secret_rev_ssim: 0.8570\n",
      "24-11-14 22:48:14.102 : stego_lpips: 0.0014, secret_rev_lpips: 0.0411\n",
      "24-11-14 22:48:14.102 : stego_apd: 1.43, secret_rev_apd: 7.68\n",
      "24-11-14 22:48:14.102 : saving images...\n",
      "24-11-14 22:48:14.212 : stego_psnr_mean: 42.54, stego_ssim_mean: 0.9884, stego_lpips_mean: 0.0014, stego_apd_mean: 1.43\n",
      "24-11-14 22:48:14.212 : secret_rev_psnr_mean: 27.62, secret_rev_ssim_mean: 0.8570, secret_rev_lpips_mean: 0.0411, secret_rev_apd_mean: 7.68\n"
     ]
    }
   ],
   "source": [
    "!source activate base && conda activate FNNS && python encoder.py"
   ]
  },
  {
   "cell_type": "code",
   "execution_count": 70,
   "id": "b383bee9-1bee-439f-b0b4-275684f5c95f",
   "metadata": {},
   "outputs": [
    {
     "name": "stdout",
     "output_type": "stream",
     "text": [
      "Done\n"
     ]
    }
   ],
   "source": [
    "!source activate base && conda activate FNNS && python decoder.py"
   ]
  },
  {
   "cell_type": "code",
   "execution_count": null,
   "id": "3618a202-388d-4090-9e6b-f35b6f22a532",
   "metadata": {},
   "outputs": [],
   "source": []
  }
 ],
 "metadata": {
  "kernelspec": {
   "display_name": "Python 3 (ipykernel)",
   "language": "python",
   "name": "python3"
  },
  "language_info": {
   "codemirror_mode": {
    "name": "ipython",
    "version": 3
   },
   "file_extension": ".py",
   "mimetype": "text/x-python",
   "name": "python",
   "nbconvert_exporter": "python",
   "pygments_lexer": "ipython3",
   "version": "3.10.12"
  }
 },
 "nbformat": 4,
 "nbformat_minor": 5
}
